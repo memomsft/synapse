{
    "metadata": {
        "kernelspec": {
            "name": "SQL",
            "display_name": "SQL",
            "language": "sql"
        },
        "language_info": {
            "name": "sql",
            "version": ""
        }
    },
    "nbformat_minor": 2,
    "nbformat": 4,
    "cells": [
        {
            "cell_type": "code",
            "source": [
                "SELECT * FROM dbo.SampleTable; --Comment"
            ],
            "metadata": {
                "azdata_cell_guid": "c4ea9dcc-70ba-476d-957b-c99fa508ea91",
                "language": "sql"
            },
            "outputs": [
                {
                    "output_type": "display_data",
                    "data": {
                        "text/html": "(4 rows affected)"
                    },
                    "metadata": {}
                },
                {
                    "output_type": "display_data",
                    "data": {
                        "text/html": "Total execution time: 00:00:00.267"
                    },
                    "metadata": {}
                },
                {
                    "output_type": "execute_result",
                    "execution_count": 31,
                    "data": {
                        "application/vnd.dataresource+json": {
                            "schema": {
                                "fields": [
                                    {
                                        "name": "ID"
                                    },
                                    {
                                        "name": "Name"
                                    },
                                    {
                                        "name": "Age"
                                    }
                                ]
                            },
                            "data": [
                                {
                                    "ID": "3",
                                    "Name": "Alice",
                                    "Age": "20"
                                },
                                {
                                    "ID": "2",
                                    "Name": "Jane Doe",
                                    "Age": "25"
                                },
                                {
                                    "ID": "4",
                                    "Name": "Beth",
                                    "Age": "30"
                                },
                                {
                                    "ID": "1",
                                    "Name": "John Doe",
                                    "Age": "30"
                                }
                            ]
                        },
                        "text/html": "<table><tr><th>ID</th><th>Name</th><th>Age</th></tr><tr><td>3</td><td>Alice</td><td>20</td></tr><tr><td>2</td><td>Jane Doe</td><td>25</td></tr><tr><td>4</td><td>Beth</td><td>30</td></tr><tr><td>1</td><td>John Doe</td><td>30</td></tr></table>"
                    },
                    "metadata": {}
                }
            ],
            "execution_count": 31
        }
    ]
}